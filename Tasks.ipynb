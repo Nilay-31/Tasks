{
  "nbformat": 4,
  "nbformat_minor": 0,
  "metadata": {
    "colab": {
      "provenance": []
    },
    "kernelspec": {
      "name": "python3",
      "display_name": "Python 3"
    },
    "language_info": {
      "name": "python"
    }
  },
  "cells": [
    {
      "cell_type": "markdown",
      "source": [
        "# **Level 1**\n",
        "\n",
        "**Task 1:**Top Cuisines\n",
        "Determine the top three most\n",
        "common cuisines in the dataset.\n",
        "Calculate the percentage of\n",
        "restaurants that serve each of the top\n",
        "cuisines"
      ],
      "metadata": {
        "id": "w1nlf1TbvXHH"
      }
    },
    {
      "cell_type": "markdown",
      "source": [
        "Importing Necessary Libraries"
      ],
      "metadata": {
        "id": "HR03-idZvYRz"
      }
    },
    {
      "cell_type": "code",
      "execution_count": 55,
      "metadata": {
        "id": "-AgWsRUeuJ3d"
      },
      "outputs": [],
      "source": [
        "import pandas as pd"
      ]
    },
    {
      "cell_type": "markdown",
      "source": [
        "Loading Dataset"
      ],
      "metadata": {
        "id": "E3YBt4p3vgRl"
      }
    },
    {
      "cell_type": "code",
      "source": [
        "file_path = '/content/Dataset .csv'\n",
        "df = pd.read_csv(file_path)"
      ],
      "metadata": {
        "id": "150oZPsxvV0N"
      },
      "execution_count": 56,
      "outputs": []
    },
    {
      "cell_type": "markdown",
      "source": [
        "Display basic information for few rows"
      ],
      "metadata": {
        "id": "nCpL2KozvzdQ"
      }
    },
    {
      "cell_type": "code",
      "source": [
        "df.info()"
      ],
      "metadata": {
        "collapsed": true,
        "colab": {
          "base_uri": "https://localhost:8080/"
        },
        "id": "T8vDD0UWv_25",
        "outputId": "aceb721f-76ce-44e3-b4a5-c8f417dfb62d"
      },
      "execution_count": 57,
      "outputs": [
        {
          "output_type": "stream",
          "name": "stdout",
          "text": [
            "<class 'pandas.core.frame.DataFrame'>\n",
            "RangeIndex: 9551 entries, 0 to 9550\n",
            "Data columns (total 21 columns):\n",
            " #   Column                Non-Null Count  Dtype  \n",
            "---  ------                --------------  -----  \n",
            " 0   Restaurant ID         9551 non-null   int64  \n",
            " 1   Restaurant Name       9551 non-null   object \n",
            " 2   Country Code          9551 non-null   int64  \n",
            " 3   City                  9551 non-null   object \n",
            " 4   Address               9551 non-null   object \n",
            " 5   Locality              9551 non-null   object \n",
            " 6   Locality Verbose      9551 non-null   object \n",
            " 7   Longitude             9551 non-null   float64\n",
            " 8   Latitude              9551 non-null   float64\n",
            " 9   Cuisines              9542 non-null   object \n",
            " 10  Average Cost for two  9551 non-null   int64  \n",
            " 11  Currency              9551 non-null   object \n",
            " 12  Has Table booking     9551 non-null   object \n",
            " 13  Has Online delivery   9551 non-null   object \n",
            " 14  Is delivering now     9551 non-null   object \n",
            " 15  Switch to order menu  9551 non-null   object \n",
            " 16  Price range           9551 non-null   int64  \n",
            " 17  Aggregate rating      9551 non-null   float64\n",
            " 18  Rating color          9551 non-null   object \n",
            " 19  Rating text           9551 non-null   object \n",
            " 20  Votes                 9551 non-null   int64  \n",
            "dtypes: float64(3), int64(5), object(13)\n",
            "memory usage: 1.5+ MB\n"
          ]
        }
      ]
    },
    {
      "cell_type": "code",
      "source": [
        "df.head()"
      ],
      "metadata": {
        "colab": {
          "base_uri": "https://localhost:8080/",
          "height": 811
        },
        "collapsed": true,
        "id": "AdqvBW-owIqD",
        "outputId": "4dcecaad-d51e-42cf-9883-78a00b347c3d"
      },
      "execution_count": 58,
      "outputs": [
        {
          "output_type": "execute_result",
          "data": {
            "text/plain": [
              "   Restaurant ID         Restaurant Name  Country Code              City  \\\n",
              "0        6317637        Le Petit Souffle           162       Makati City   \n",
              "1        6304287        Izakaya Kikufuji           162       Makati City   \n",
              "2        6300002  Heat - Edsa Shangri-La           162  Mandaluyong City   \n",
              "3        6318506                    Ooma           162  Mandaluyong City   \n",
              "4        6314302             Sambo Kojin           162  Mandaluyong City   \n",
              "\n",
              "                                             Address  \\\n",
              "0  Third Floor, Century City Mall, Kalayaan Avenu...   \n",
              "1  Little Tokyo, 2277 Chino Roces Avenue, Legaspi...   \n",
              "2  Edsa Shangri-La, 1 Garden Way, Ortigas, Mandal...   \n",
              "3  Third Floor, Mega Fashion Hall, SM Megamall, O...   \n",
              "4  Third Floor, Mega Atrium, SM Megamall, Ortigas...   \n",
              "\n",
              "                                     Locality  \\\n",
              "0   Century City Mall, Poblacion, Makati City   \n",
              "1  Little Tokyo, Legaspi Village, Makati City   \n",
              "2  Edsa Shangri-La, Ortigas, Mandaluyong City   \n",
              "3      SM Megamall, Ortigas, Mandaluyong City   \n",
              "4      SM Megamall, Ortigas, Mandaluyong City   \n",
              "\n",
              "                                    Locality Verbose   Longitude   Latitude  \\\n",
              "0  Century City Mall, Poblacion, Makati City, Mak...  121.027535  14.565443   \n",
              "1  Little Tokyo, Legaspi Village, Makati City, Ma...  121.014101  14.553708   \n",
              "2  Edsa Shangri-La, Ortigas, Mandaluyong City, Ma...  121.056831  14.581404   \n",
              "3  SM Megamall, Ortigas, Mandaluyong City, Mandal...  121.056475  14.585318   \n",
              "4  SM Megamall, Ortigas, Mandaluyong City, Mandal...  121.057508  14.584450   \n",
              "\n",
              "                           Cuisines  ...          Currency Has Table booking  \\\n",
              "0        French, Japanese, Desserts  ...  Botswana Pula(P)               Yes   \n",
              "1                          Japanese  ...  Botswana Pula(P)               Yes   \n",
              "2  Seafood, Asian, Filipino, Indian  ...  Botswana Pula(P)               Yes   \n",
              "3                   Japanese, Sushi  ...  Botswana Pula(P)                No   \n",
              "4                  Japanese, Korean  ...  Botswana Pula(P)               Yes   \n",
              "\n",
              "  Has Online delivery Is delivering now Switch to order menu Price range  \\\n",
              "0                  No                No                   No           3   \n",
              "1                  No                No                   No           3   \n",
              "2                  No                No                   No           4   \n",
              "3                  No                No                   No           4   \n",
              "4                  No                No                   No           4   \n",
              "\n",
              "   Aggregate rating  Rating color Rating text Votes  \n",
              "0               4.8    Dark Green   Excellent   314  \n",
              "1               4.5    Dark Green   Excellent   591  \n",
              "2               4.4         Green   Very Good   270  \n",
              "3               4.9    Dark Green   Excellent   365  \n",
              "4               4.8    Dark Green   Excellent   229  \n",
              "\n",
              "[5 rows x 21 columns]"
            ],
            "text/html": [
              "\n",
              "  <div id=\"df-9db4a5f9-a1e6-470d-8ff8-b23d5c09517d\" class=\"colab-df-container\">\n",
              "    <div>\n",
              "<style scoped>\n",
              "    .dataframe tbody tr th:only-of-type {\n",
              "        vertical-align: middle;\n",
              "    }\n",
              "\n",
              "    .dataframe tbody tr th {\n",
              "        vertical-align: top;\n",
              "    }\n",
              "\n",
              "    .dataframe thead th {\n",
              "        text-align: right;\n",
              "    }\n",
              "</style>\n",
              "<table border=\"1\" class=\"dataframe\">\n",
              "  <thead>\n",
              "    <tr style=\"text-align: right;\">\n",
              "      <th></th>\n",
              "      <th>Restaurant ID</th>\n",
              "      <th>Restaurant Name</th>\n",
              "      <th>Country Code</th>\n",
              "      <th>City</th>\n",
              "      <th>Address</th>\n",
              "      <th>Locality</th>\n",
              "      <th>Locality Verbose</th>\n",
              "      <th>Longitude</th>\n",
              "      <th>Latitude</th>\n",
              "      <th>Cuisines</th>\n",
              "      <th>...</th>\n",
              "      <th>Currency</th>\n",
              "      <th>Has Table booking</th>\n",
              "      <th>Has Online delivery</th>\n",
              "      <th>Is delivering now</th>\n",
              "      <th>Switch to order menu</th>\n",
              "      <th>Price range</th>\n",
              "      <th>Aggregate rating</th>\n",
              "      <th>Rating color</th>\n",
              "      <th>Rating text</th>\n",
              "      <th>Votes</th>\n",
              "    </tr>\n",
              "  </thead>\n",
              "  <tbody>\n",
              "    <tr>\n",
              "      <th>0</th>\n",
              "      <td>6317637</td>\n",
              "      <td>Le Petit Souffle</td>\n",
              "      <td>162</td>\n",
              "      <td>Makati City</td>\n",
              "      <td>Third Floor, Century City Mall, Kalayaan Avenu...</td>\n",
              "      <td>Century City Mall, Poblacion, Makati City</td>\n",
              "      <td>Century City Mall, Poblacion, Makati City, Mak...</td>\n",
              "      <td>121.027535</td>\n",
              "      <td>14.565443</td>\n",
              "      <td>French, Japanese, Desserts</td>\n",
              "      <td>...</td>\n",
              "      <td>Botswana Pula(P)</td>\n",
              "      <td>Yes</td>\n",
              "      <td>No</td>\n",
              "      <td>No</td>\n",
              "      <td>No</td>\n",
              "      <td>3</td>\n",
              "      <td>4.8</td>\n",
              "      <td>Dark Green</td>\n",
              "      <td>Excellent</td>\n",
              "      <td>314</td>\n",
              "    </tr>\n",
              "    <tr>\n",
              "      <th>1</th>\n",
              "      <td>6304287</td>\n",
              "      <td>Izakaya Kikufuji</td>\n",
              "      <td>162</td>\n",
              "      <td>Makati City</td>\n",
              "      <td>Little Tokyo, 2277 Chino Roces Avenue, Legaspi...</td>\n",
              "      <td>Little Tokyo, Legaspi Village, Makati City</td>\n",
              "      <td>Little Tokyo, Legaspi Village, Makati City, Ma...</td>\n",
              "      <td>121.014101</td>\n",
              "      <td>14.553708</td>\n",
              "      <td>Japanese</td>\n",
              "      <td>...</td>\n",
              "      <td>Botswana Pula(P)</td>\n",
              "      <td>Yes</td>\n",
              "      <td>No</td>\n",
              "      <td>No</td>\n",
              "      <td>No</td>\n",
              "      <td>3</td>\n",
              "      <td>4.5</td>\n",
              "      <td>Dark Green</td>\n",
              "      <td>Excellent</td>\n",
              "      <td>591</td>\n",
              "    </tr>\n",
              "    <tr>\n",
              "      <th>2</th>\n",
              "      <td>6300002</td>\n",
              "      <td>Heat - Edsa Shangri-La</td>\n",
              "      <td>162</td>\n",
              "      <td>Mandaluyong City</td>\n",
              "      <td>Edsa Shangri-La, 1 Garden Way, Ortigas, Mandal...</td>\n",
              "      <td>Edsa Shangri-La, Ortigas, Mandaluyong City</td>\n",
              "      <td>Edsa Shangri-La, Ortigas, Mandaluyong City, Ma...</td>\n",
              "      <td>121.056831</td>\n",
              "      <td>14.581404</td>\n",
              "      <td>Seafood, Asian, Filipino, Indian</td>\n",
              "      <td>...</td>\n",
              "      <td>Botswana Pula(P)</td>\n",
              "      <td>Yes</td>\n",
              "      <td>No</td>\n",
              "      <td>No</td>\n",
              "      <td>No</td>\n",
              "      <td>4</td>\n",
              "      <td>4.4</td>\n",
              "      <td>Green</td>\n",
              "      <td>Very Good</td>\n",
              "      <td>270</td>\n",
              "    </tr>\n",
              "    <tr>\n",
              "      <th>3</th>\n",
              "      <td>6318506</td>\n",
              "      <td>Ooma</td>\n",
              "      <td>162</td>\n",
              "      <td>Mandaluyong City</td>\n",
              "      <td>Third Floor, Mega Fashion Hall, SM Megamall, O...</td>\n",
              "      <td>SM Megamall, Ortigas, Mandaluyong City</td>\n",
              "      <td>SM Megamall, Ortigas, Mandaluyong City, Mandal...</td>\n",
              "      <td>121.056475</td>\n",
              "      <td>14.585318</td>\n",
              "      <td>Japanese, Sushi</td>\n",
              "      <td>...</td>\n",
              "      <td>Botswana Pula(P)</td>\n",
              "      <td>No</td>\n",
              "      <td>No</td>\n",
              "      <td>No</td>\n",
              "      <td>No</td>\n",
              "      <td>4</td>\n",
              "      <td>4.9</td>\n",
              "      <td>Dark Green</td>\n",
              "      <td>Excellent</td>\n",
              "      <td>365</td>\n",
              "    </tr>\n",
              "    <tr>\n",
              "      <th>4</th>\n",
              "      <td>6314302</td>\n",
              "      <td>Sambo Kojin</td>\n",
              "      <td>162</td>\n",
              "      <td>Mandaluyong City</td>\n",
              "      <td>Third Floor, Mega Atrium, SM Megamall, Ortigas...</td>\n",
              "      <td>SM Megamall, Ortigas, Mandaluyong City</td>\n",
              "      <td>SM Megamall, Ortigas, Mandaluyong City, Mandal...</td>\n",
              "      <td>121.057508</td>\n",
              "      <td>14.584450</td>\n",
              "      <td>Japanese, Korean</td>\n",
              "      <td>...</td>\n",
              "      <td>Botswana Pula(P)</td>\n",
              "      <td>Yes</td>\n",
              "      <td>No</td>\n",
              "      <td>No</td>\n",
              "      <td>No</td>\n",
              "      <td>4</td>\n",
              "      <td>4.8</td>\n",
              "      <td>Dark Green</td>\n",
              "      <td>Excellent</td>\n",
              "      <td>229</td>\n",
              "    </tr>\n",
              "  </tbody>\n",
              "</table>\n",
              "<p>5 rows × 21 columns</p>\n",
              "</div>\n",
              "    <div class=\"colab-df-buttons\">\n",
              "\n",
              "  <div class=\"colab-df-container\">\n",
              "    <button class=\"colab-df-convert\" onclick=\"convertToInteractive('df-9db4a5f9-a1e6-470d-8ff8-b23d5c09517d')\"\n",
              "            title=\"Convert this dataframe to an interactive table.\"\n",
              "            style=\"display:none;\">\n",
              "\n",
              "  <svg xmlns=\"http://www.w3.org/2000/svg\" height=\"24px\" viewBox=\"0 -960 960 960\">\n",
              "    <path d=\"M120-120v-720h720v720H120Zm60-500h600v-160H180v160Zm220 220h160v-160H400v160Zm0 220h160v-160H400v160ZM180-400h160v-160H180v160Zm440 0h160v-160H620v160ZM180-180h160v-160H180v160Zm440 0h160v-160H620v160Z\"/>\n",
              "  </svg>\n",
              "    </button>\n",
              "\n",
              "  <style>\n",
              "    .colab-df-container {\n",
              "      display:flex;\n",
              "      gap: 12px;\n",
              "    }\n",
              "\n",
              "    .colab-df-convert {\n",
              "      background-color: #E8F0FE;\n",
              "      border: none;\n",
              "      border-radius: 50%;\n",
              "      cursor: pointer;\n",
              "      display: none;\n",
              "      fill: #1967D2;\n",
              "      height: 32px;\n",
              "      padding: 0 0 0 0;\n",
              "      width: 32px;\n",
              "    }\n",
              "\n",
              "    .colab-df-convert:hover {\n",
              "      background-color: #E2EBFA;\n",
              "      box-shadow: 0px 1px 2px rgba(60, 64, 67, 0.3), 0px 1px 3px 1px rgba(60, 64, 67, 0.15);\n",
              "      fill: #174EA6;\n",
              "    }\n",
              "\n",
              "    .colab-df-buttons div {\n",
              "      margin-bottom: 4px;\n",
              "    }\n",
              "\n",
              "    [theme=dark] .colab-df-convert {\n",
              "      background-color: #3B4455;\n",
              "      fill: #D2E3FC;\n",
              "    }\n",
              "\n",
              "    [theme=dark] .colab-df-convert:hover {\n",
              "      background-color: #434B5C;\n",
              "      box-shadow: 0px 1px 3px 1px rgba(0, 0, 0, 0.15);\n",
              "      filter: drop-shadow(0px 1px 2px rgba(0, 0, 0, 0.3));\n",
              "      fill: #FFFFFF;\n",
              "    }\n",
              "  </style>\n",
              "\n",
              "    <script>\n",
              "      const buttonEl =\n",
              "        document.querySelector('#df-9db4a5f9-a1e6-470d-8ff8-b23d5c09517d button.colab-df-convert');\n",
              "      buttonEl.style.display =\n",
              "        google.colab.kernel.accessAllowed ? 'block' : 'none';\n",
              "\n",
              "      async function convertToInteractive(key) {\n",
              "        const element = document.querySelector('#df-9db4a5f9-a1e6-470d-8ff8-b23d5c09517d');\n",
              "        const dataTable =\n",
              "          await google.colab.kernel.invokeFunction('convertToInteractive',\n",
              "                                                    [key], {});\n",
              "        if (!dataTable) return;\n",
              "\n",
              "        const docLinkHtml = 'Like what you see? Visit the ' +\n",
              "          '<a target=\"_blank\" href=https://colab.research.google.com/notebooks/data_table.ipynb>data table notebook</a>'\n",
              "          + ' to learn more about interactive tables.';\n",
              "        element.innerHTML = '';\n",
              "        dataTable['output_type'] = 'display_data';\n",
              "        await google.colab.output.renderOutput(dataTable, element);\n",
              "        const docLink = document.createElement('div');\n",
              "        docLink.innerHTML = docLinkHtml;\n",
              "        element.appendChild(docLink);\n",
              "      }\n",
              "    </script>\n",
              "  </div>\n",
              "\n",
              "\n",
              "<div id=\"df-2e62ee89-5db3-428f-b05e-a9e32b2b385c\">\n",
              "  <button class=\"colab-df-quickchart\" onclick=\"quickchart('df-2e62ee89-5db3-428f-b05e-a9e32b2b385c')\"\n",
              "            title=\"Suggest charts\"\n",
              "            style=\"display:none;\">\n",
              "\n",
              "<svg xmlns=\"http://www.w3.org/2000/svg\" height=\"24px\"viewBox=\"0 0 24 24\"\n",
              "     width=\"24px\">\n",
              "    <g>\n",
              "        <path d=\"M19 3H5c-1.1 0-2 .9-2 2v14c0 1.1.9 2 2 2h14c1.1 0 2-.9 2-2V5c0-1.1-.9-2-2-2zM9 17H7v-7h2v7zm4 0h-2V7h2v10zm4 0h-2v-4h2v4z\"/>\n",
              "    </g>\n",
              "</svg>\n",
              "  </button>\n",
              "\n",
              "<style>\n",
              "  .colab-df-quickchart {\n",
              "      --bg-color: #E8F0FE;\n",
              "      --fill-color: #1967D2;\n",
              "      --hover-bg-color: #E2EBFA;\n",
              "      --hover-fill-color: #174EA6;\n",
              "      --disabled-fill-color: #AAA;\n",
              "      --disabled-bg-color: #DDD;\n",
              "  }\n",
              "\n",
              "  [theme=dark] .colab-df-quickchart {\n",
              "      --bg-color: #3B4455;\n",
              "      --fill-color: #D2E3FC;\n",
              "      --hover-bg-color: #434B5C;\n",
              "      --hover-fill-color: #FFFFFF;\n",
              "      --disabled-bg-color: #3B4455;\n",
              "      --disabled-fill-color: #666;\n",
              "  }\n",
              "\n",
              "  .colab-df-quickchart {\n",
              "    background-color: var(--bg-color);\n",
              "    border: none;\n",
              "    border-radius: 50%;\n",
              "    cursor: pointer;\n",
              "    display: none;\n",
              "    fill: var(--fill-color);\n",
              "    height: 32px;\n",
              "    padding: 0;\n",
              "    width: 32px;\n",
              "  }\n",
              "\n",
              "  .colab-df-quickchart:hover {\n",
              "    background-color: var(--hover-bg-color);\n",
              "    box-shadow: 0 1px 2px rgba(60, 64, 67, 0.3), 0 1px 3px 1px rgba(60, 64, 67, 0.15);\n",
              "    fill: var(--button-hover-fill-color);\n",
              "  }\n",
              "\n",
              "  .colab-df-quickchart-complete:disabled,\n",
              "  .colab-df-quickchart-complete:disabled:hover {\n",
              "    background-color: var(--disabled-bg-color);\n",
              "    fill: var(--disabled-fill-color);\n",
              "    box-shadow: none;\n",
              "  }\n",
              "\n",
              "  .colab-df-spinner {\n",
              "    border: 2px solid var(--fill-color);\n",
              "    border-color: transparent;\n",
              "    border-bottom-color: var(--fill-color);\n",
              "    animation:\n",
              "      spin 1s steps(1) infinite;\n",
              "  }\n",
              "\n",
              "  @keyframes spin {\n",
              "    0% {\n",
              "      border-color: transparent;\n",
              "      border-bottom-color: var(--fill-color);\n",
              "      border-left-color: var(--fill-color);\n",
              "    }\n",
              "    20% {\n",
              "      border-color: transparent;\n",
              "      border-left-color: var(--fill-color);\n",
              "      border-top-color: var(--fill-color);\n",
              "    }\n",
              "    30% {\n",
              "      border-color: transparent;\n",
              "      border-left-color: var(--fill-color);\n",
              "      border-top-color: var(--fill-color);\n",
              "      border-right-color: var(--fill-color);\n",
              "    }\n",
              "    40% {\n",
              "      border-color: transparent;\n",
              "      border-right-color: var(--fill-color);\n",
              "      border-top-color: var(--fill-color);\n",
              "    }\n",
              "    60% {\n",
              "      border-color: transparent;\n",
              "      border-right-color: var(--fill-color);\n",
              "    }\n",
              "    80% {\n",
              "      border-color: transparent;\n",
              "      border-right-color: var(--fill-color);\n",
              "      border-bottom-color: var(--fill-color);\n",
              "    }\n",
              "    90% {\n",
              "      border-color: transparent;\n",
              "      border-bottom-color: var(--fill-color);\n",
              "    }\n",
              "  }\n",
              "</style>\n",
              "\n",
              "  <script>\n",
              "    async function quickchart(key) {\n",
              "      const quickchartButtonEl =\n",
              "        document.querySelector('#' + key + ' button');\n",
              "      quickchartButtonEl.disabled = true;  // To prevent multiple clicks.\n",
              "      quickchartButtonEl.classList.add('colab-df-spinner');\n",
              "      try {\n",
              "        const charts = await google.colab.kernel.invokeFunction(\n",
              "            'suggestCharts', [key], {});\n",
              "      } catch (error) {\n",
              "        console.error('Error during call to suggestCharts:', error);\n",
              "      }\n",
              "      quickchartButtonEl.classList.remove('colab-df-spinner');\n",
              "      quickchartButtonEl.classList.add('colab-df-quickchart-complete');\n",
              "    }\n",
              "    (() => {\n",
              "      let quickchartButtonEl =\n",
              "        document.querySelector('#df-2e62ee89-5db3-428f-b05e-a9e32b2b385c button');\n",
              "      quickchartButtonEl.style.display =\n",
              "        google.colab.kernel.accessAllowed ? 'block' : 'none';\n",
              "    })();\n",
              "  </script>\n",
              "</div>\n",
              "\n",
              "    </div>\n",
              "  </div>\n"
            ],
            "application/vnd.google.colaboratory.intrinsic+json": {
              "type": "dataframe",
              "variable_name": "df"
            }
          },
          "metadata": {},
          "execution_count": 58
        }
      ]
    },
    {
      "cell_type": "markdown",
      "source": [
        "Drop missing values in the \"Cuisines\" column"
      ],
      "metadata": {
        "id": "0u35P-POwRS9"
      }
    },
    {
      "cell_type": "code",
      "source": [
        "df = df.dropna(subset=[\"Cuisines\"])"
      ],
      "metadata": {
        "id": "PcfiPvdYwVyD"
      },
      "execution_count": 60,
      "outputs": []
    },
    {
      "cell_type": "markdown",
      "source": [
        "Split the \"Cuisines\" column into individual cuisines"
      ],
      "metadata": {
        "id": "eWZ2gVFxwaSl"
      }
    },
    {
      "cell_type": "code",
      "source": [
        "cuisine_counts = df[\"Cuisines\"].str.split(\", \").explode().value_counts()"
      ],
      "metadata": {
        "id": "Sei2JxJfwZ4V"
      },
      "execution_count": 62,
      "outputs": []
    },
    {
      "cell_type": "markdown",
      "source": [
        "Get the top 3 cuisines"
      ],
      "metadata": {
        "id": "dunAEFdjwgvD"
      }
    },
    {
      "cell_type": "code",
      "source": [
        "top_3_cuisines = cuisine_counts.head(3)"
      ],
      "metadata": {
        "id": "1M3RqmOQwhfX"
      },
      "execution_count": 63,
      "outputs": []
    },
    {
      "cell_type": "markdown",
      "source": [
        "Calculate the percentage of restaurants serving each top cuisine"
      ],
      "metadata": {
        "id": "Qo-IXShHwlhO"
      }
    },
    {
      "cell_type": "code",
      "source": [
        "total_restaurants = len(df)\n",
        "top_3_percentages = (top_3_cuisines / total_restaurants) * 100"
      ],
      "metadata": {
        "id": "1p27I-ZUwlKA"
      },
      "execution_count": 64,
      "outputs": []
    },
    {
      "cell_type": "markdown",
      "source": [
        "Combine results into a DataFrame"
      ],
      "metadata": {
        "id": "wvdrfeA3wuNH"
      }
    },
    {
      "cell_type": "code",
      "source": [
        "top_cuisines_df = pd.DataFrame({\n",
        "    \"Cuisine\": top_3_cuisines.index,\n",
        "    \"Count\": top_3_cuisines.values,\n",
        "    \"Percentage\": top_3_percentages.values\n",
        "})"
      ],
      "metadata": {
        "id": "3mS0ta6JwsGl"
      },
      "execution_count": 65,
      "outputs": []
    },
    {
      "cell_type": "code",
      "source": [
        "top_cuisines_df"
      ],
      "metadata": {
        "colab": {
          "base_uri": "https://localhost:8080/",
          "height": 143
        },
        "id": "rcw8ET2ww1iS",
        "outputId": "98d97974-528e-4da9-a7df-3210d311695a"
      },
      "execution_count": 66,
      "outputs": [
        {
          "output_type": "execute_result",
          "data": {
            "text/plain": [
              "        Cuisine  Count  Percentage\n",
              "0  North Indian   3960   41.500734\n",
              "1       Chinese   2735   28.662754\n",
              "2     Fast Food   1986   20.813247"
            ],
            "text/html": [
              "\n",
              "  <div id=\"df-5d7f6041-0e7c-45a7-959e-39dbc2e60679\" class=\"colab-df-container\">\n",
              "    <div>\n",
              "<style scoped>\n",
              "    .dataframe tbody tr th:only-of-type {\n",
              "        vertical-align: middle;\n",
              "    }\n",
              "\n",
              "    .dataframe tbody tr th {\n",
              "        vertical-align: top;\n",
              "    }\n",
              "\n",
              "    .dataframe thead th {\n",
              "        text-align: right;\n",
              "    }\n",
              "</style>\n",
              "<table border=\"1\" class=\"dataframe\">\n",
              "  <thead>\n",
              "    <tr style=\"text-align: right;\">\n",
              "      <th></th>\n",
              "      <th>Cuisine</th>\n",
              "      <th>Count</th>\n",
              "      <th>Percentage</th>\n",
              "    </tr>\n",
              "  </thead>\n",
              "  <tbody>\n",
              "    <tr>\n",
              "      <th>0</th>\n",
              "      <td>North Indian</td>\n",
              "      <td>3960</td>\n",
              "      <td>41.500734</td>\n",
              "    </tr>\n",
              "    <tr>\n",
              "      <th>1</th>\n",
              "      <td>Chinese</td>\n",
              "      <td>2735</td>\n",
              "      <td>28.662754</td>\n",
              "    </tr>\n",
              "    <tr>\n",
              "      <th>2</th>\n",
              "      <td>Fast Food</td>\n",
              "      <td>1986</td>\n",
              "      <td>20.813247</td>\n",
              "    </tr>\n",
              "  </tbody>\n",
              "</table>\n",
              "</div>\n",
              "    <div class=\"colab-df-buttons\">\n",
              "\n",
              "  <div class=\"colab-df-container\">\n",
              "    <button class=\"colab-df-convert\" onclick=\"convertToInteractive('df-5d7f6041-0e7c-45a7-959e-39dbc2e60679')\"\n",
              "            title=\"Convert this dataframe to an interactive table.\"\n",
              "            style=\"display:none;\">\n",
              "\n",
              "  <svg xmlns=\"http://www.w3.org/2000/svg\" height=\"24px\" viewBox=\"0 -960 960 960\">\n",
              "    <path d=\"M120-120v-720h720v720H120Zm60-500h600v-160H180v160Zm220 220h160v-160H400v160Zm0 220h160v-160H400v160ZM180-400h160v-160H180v160Zm440 0h160v-160H620v160ZM180-180h160v-160H180v160Zm440 0h160v-160H620v160Z\"/>\n",
              "  </svg>\n",
              "    </button>\n",
              "\n",
              "  <style>\n",
              "    .colab-df-container {\n",
              "      display:flex;\n",
              "      gap: 12px;\n",
              "    }\n",
              "\n",
              "    .colab-df-convert {\n",
              "      background-color: #E8F0FE;\n",
              "      border: none;\n",
              "      border-radius: 50%;\n",
              "      cursor: pointer;\n",
              "      display: none;\n",
              "      fill: #1967D2;\n",
              "      height: 32px;\n",
              "      padding: 0 0 0 0;\n",
              "      width: 32px;\n",
              "    }\n",
              "\n",
              "    .colab-df-convert:hover {\n",
              "      background-color: #E2EBFA;\n",
              "      box-shadow: 0px 1px 2px rgba(60, 64, 67, 0.3), 0px 1px 3px 1px rgba(60, 64, 67, 0.15);\n",
              "      fill: #174EA6;\n",
              "    }\n",
              "\n",
              "    .colab-df-buttons div {\n",
              "      margin-bottom: 4px;\n",
              "    }\n",
              "\n",
              "    [theme=dark] .colab-df-convert {\n",
              "      background-color: #3B4455;\n",
              "      fill: #D2E3FC;\n",
              "    }\n",
              "\n",
              "    [theme=dark] .colab-df-convert:hover {\n",
              "      background-color: #434B5C;\n",
              "      box-shadow: 0px 1px 3px 1px rgba(0, 0, 0, 0.15);\n",
              "      filter: drop-shadow(0px 1px 2px rgba(0, 0, 0, 0.3));\n",
              "      fill: #FFFFFF;\n",
              "    }\n",
              "  </style>\n",
              "\n",
              "    <script>\n",
              "      const buttonEl =\n",
              "        document.querySelector('#df-5d7f6041-0e7c-45a7-959e-39dbc2e60679 button.colab-df-convert');\n",
              "      buttonEl.style.display =\n",
              "        google.colab.kernel.accessAllowed ? 'block' : 'none';\n",
              "\n",
              "      async function convertToInteractive(key) {\n",
              "        const element = document.querySelector('#df-5d7f6041-0e7c-45a7-959e-39dbc2e60679');\n",
              "        const dataTable =\n",
              "          await google.colab.kernel.invokeFunction('convertToInteractive',\n",
              "                                                    [key], {});\n",
              "        if (!dataTable) return;\n",
              "\n",
              "        const docLinkHtml = 'Like what you see? Visit the ' +\n",
              "          '<a target=\"_blank\" href=https://colab.research.google.com/notebooks/data_table.ipynb>data table notebook</a>'\n",
              "          + ' to learn more about interactive tables.';\n",
              "        element.innerHTML = '';\n",
              "        dataTable['output_type'] = 'display_data';\n",
              "        await google.colab.output.renderOutput(dataTable, element);\n",
              "        const docLink = document.createElement('div');\n",
              "        docLink.innerHTML = docLinkHtml;\n",
              "        element.appendChild(docLink);\n",
              "      }\n",
              "    </script>\n",
              "  </div>\n",
              "\n",
              "\n",
              "<div id=\"df-0ee9e75a-a35f-47c5-ac09-0152ed85daf0\">\n",
              "  <button class=\"colab-df-quickchart\" onclick=\"quickchart('df-0ee9e75a-a35f-47c5-ac09-0152ed85daf0')\"\n",
              "            title=\"Suggest charts\"\n",
              "            style=\"display:none;\">\n",
              "\n",
              "<svg xmlns=\"http://www.w3.org/2000/svg\" height=\"24px\"viewBox=\"0 0 24 24\"\n",
              "     width=\"24px\">\n",
              "    <g>\n",
              "        <path d=\"M19 3H5c-1.1 0-2 .9-2 2v14c0 1.1.9 2 2 2h14c1.1 0 2-.9 2-2V5c0-1.1-.9-2-2-2zM9 17H7v-7h2v7zm4 0h-2V7h2v10zm4 0h-2v-4h2v4z\"/>\n",
              "    </g>\n",
              "</svg>\n",
              "  </button>\n",
              "\n",
              "<style>\n",
              "  .colab-df-quickchart {\n",
              "      --bg-color: #E8F0FE;\n",
              "      --fill-color: #1967D2;\n",
              "      --hover-bg-color: #E2EBFA;\n",
              "      --hover-fill-color: #174EA6;\n",
              "      --disabled-fill-color: #AAA;\n",
              "      --disabled-bg-color: #DDD;\n",
              "  }\n",
              "\n",
              "  [theme=dark] .colab-df-quickchart {\n",
              "      --bg-color: #3B4455;\n",
              "      --fill-color: #D2E3FC;\n",
              "      --hover-bg-color: #434B5C;\n",
              "      --hover-fill-color: #FFFFFF;\n",
              "      --disabled-bg-color: #3B4455;\n",
              "      --disabled-fill-color: #666;\n",
              "  }\n",
              "\n",
              "  .colab-df-quickchart {\n",
              "    background-color: var(--bg-color);\n",
              "    border: none;\n",
              "    border-radius: 50%;\n",
              "    cursor: pointer;\n",
              "    display: none;\n",
              "    fill: var(--fill-color);\n",
              "    height: 32px;\n",
              "    padding: 0;\n",
              "    width: 32px;\n",
              "  }\n",
              "\n",
              "  .colab-df-quickchart:hover {\n",
              "    background-color: var(--hover-bg-color);\n",
              "    box-shadow: 0 1px 2px rgba(60, 64, 67, 0.3), 0 1px 3px 1px rgba(60, 64, 67, 0.15);\n",
              "    fill: var(--button-hover-fill-color);\n",
              "  }\n",
              "\n",
              "  .colab-df-quickchart-complete:disabled,\n",
              "  .colab-df-quickchart-complete:disabled:hover {\n",
              "    background-color: var(--disabled-bg-color);\n",
              "    fill: var(--disabled-fill-color);\n",
              "    box-shadow: none;\n",
              "  }\n",
              "\n",
              "  .colab-df-spinner {\n",
              "    border: 2px solid var(--fill-color);\n",
              "    border-color: transparent;\n",
              "    border-bottom-color: var(--fill-color);\n",
              "    animation:\n",
              "      spin 1s steps(1) infinite;\n",
              "  }\n",
              "\n",
              "  @keyframes spin {\n",
              "    0% {\n",
              "      border-color: transparent;\n",
              "      border-bottom-color: var(--fill-color);\n",
              "      border-left-color: var(--fill-color);\n",
              "    }\n",
              "    20% {\n",
              "      border-color: transparent;\n",
              "      border-left-color: var(--fill-color);\n",
              "      border-top-color: var(--fill-color);\n",
              "    }\n",
              "    30% {\n",
              "      border-color: transparent;\n",
              "      border-left-color: var(--fill-color);\n",
              "      border-top-color: var(--fill-color);\n",
              "      border-right-color: var(--fill-color);\n",
              "    }\n",
              "    40% {\n",
              "      border-color: transparent;\n",
              "      border-right-color: var(--fill-color);\n",
              "      border-top-color: var(--fill-color);\n",
              "    }\n",
              "    60% {\n",
              "      border-color: transparent;\n",
              "      border-right-color: var(--fill-color);\n",
              "    }\n",
              "    80% {\n",
              "      border-color: transparent;\n",
              "      border-right-color: var(--fill-color);\n",
              "      border-bottom-color: var(--fill-color);\n",
              "    }\n",
              "    90% {\n",
              "      border-color: transparent;\n",
              "      border-bottom-color: var(--fill-color);\n",
              "    }\n",
              "  }\n",
              "</style>\n",
              "\n",
              "  <script>\n",
              "    async function quickchart(key) {\n",
              "      const quickchartButtonEl =\n",
              "        document.querySelector('#' + key + ' button');\n",
              "      quickchartButtonEl.disabled = true;  // To prevent multiple clicks.\n",
              "      quickchartButtonEl.classList.add('colab-df-spinner');\n",
              "      try {\n",
              "        const charts = await google.colab.kernel.invokeFunction(\n",
              "            'suggestCharts', [key], {});\n",
              "      } catch (error) {\n",
              "        console.error('Error during call to suggestCharts:', error);\n",
              "      }\n",
              "      quickchartButtonEl.classList.remove('colab-df-spinner');\n",
              "      quickchartButtonEl.classList.add('colab-df-quickchart-complete');\n",
              "    }\n",
              "    (() => {\n",
              "      let quickchartButtonEl =\n",
              "        document.querySelector('#df-0ee9e75a-a35f-47c5-ac09-0152ed85daf0 button');\n",
              "      quickchartButtonEl.style.display =\n",
              "        google.colab.kernel.accessAllowed ? 'block' : 'none';\n",
              "    })();\n",
              "  </script>\n",
              "</div>\n",
              "\n",
              "  <div id=\"id_05c27b5a-f201-4952-98ff-cea6e6d4fb14\">\n",
              "    <style>\n",
              "      .colab-df-generate {\n",
              "        background-color: #E8F0FE;\n",
              "        border: none;\n",
              "        border-radius: 50%;\n",
              "        cursor: pointer;\n",
              "        display: none;\n",
              "        fill: #1967D2;\n",
              "        height: 32px;\n",
              "        padding: 0 0 0 0;\n",
              "        width: 32px;\n",
              "      }\n",
              "\n",
              "      .colab-df-generate:hover {\n",
              "        background-color: #E2EBFA;\n",
              "        box-shadow: 0px 1px 2px rgba(60, 64, 67, 0.3), 0px 1px 3px 1px rgba(60, 64, 67, 0.15);\n",
              "        fill: #174EA6;\n",
              "      }\n",
              "\n",
              "      [theme=dark] .colab-df-generate {\n",
              "        background-color: #3B4455;\n",
              "        fill: #D2E3FC;\n",
              "      }\n",
              "\n",
              "      [theme=dark] .colab-df-generate:hover {\n",
              "        background-color: #434B5C;\n",
              "        box-shadow: 0px 1px 3px 1px rgba(0, 0, 0, 0.15);\n",
              "        filter: drop-shadow(0px 1px 2px rgba(0, 0, 0, 0.3));\n",
              "        fill: #FFFFFF;\n",
              "      }\n",
              "    </style>\n",
              "    <button class=\"colab-df-generate\" onclick=\"generateWithVariable('top_cuisines_df')\"\n",
              "            title=\"Generate code using this dataframe.\"\n",
              "            style=\"display:none;\">\n",
              "\n",
              "  <svg xmlns=\"http://www.w3.org/2000/svg\" height=\"24px\"viewBox=\"0 0 24 24\"\n",
              "       width=\"24px\">\n",
              "    <path d=\"M7,19H8.4L18.45,9,17,7.55,7,17.6ZM5,21V16.75L18.45,3.32a2,2,0,0,1,2.83,0l1.4,1.43a1.91,1.91,0,0,1,.58,1.4,1.91,1.91,0,0,1-.58,1.4L9.25,21ZM18.45,9,17,7.55Zm-12,3A5.31,5.31,0,0,0,4.9,8.1,5.31,5.31,0,0,0,1,6.5,5.31,5.31,0,0,0,4.9,4.9,5.31,5.31,0,0,0,6.5,1,5.31,5.31,0,0,0,8.1,4.9,5.31,5.31,0,0,0,12,6.5,5.46,5.46,0,0,0,6.5,12Z\"/>\n",
              "  </svg>\n",
              "    </button>\n",
              "    <script>\n",
              "      (() => {\n",
              "      const buttonEl =\n",
              "        document.querySelector('#id_05c27b5a-f201-4952-98ff-cea6e6d4fb14 button.colab-df-generate');\n",
              "      buttonEl.style.display =\n",
              "        google.colab.kernel.accessAllowed ? 'block' : 'none';\n",
              "\n",
              "      buttonEl.onclick = () => {\n",
              "        google.colab.notebook.generateWithVariable('top_cuisines_df');\n",
              "      }\n",
              "      })();\n",
              "    </script>\n",
              "  </div>\n",
              "\n",
              "    </div>\n",
              "  </div>\n"
            ],
            "application/vnd.google.colaboratory.intrinsic+json": {
              "type": "dataframe",
              "variable_name": "top_cuisines_df",
              "summary": "{\n  \"name\": \"top_cuisines_df\",\n  \"rows\": 3,\n  \"fields\": [\n    {\n      \"column\": \"Cuisine\",\n      \"properties\": {\n        \"dtype\": \"string\",\n        \"num_unique_values\": 3,\n        \"samples\": [\n          \"North Indian\",\n          \"Chinese\",\n          \"Fast Food\"\n        ],\n        \"semantic_type\": \"\",\n        \"description\": \"\"\n      }\n    },\n    {\n      \"column\": \"Count\",\n      \"properties\": {\n        \"dtype\": \"number\",\n        \"std\": 996,\n        \"min\": 1986,\n        \"max\": 3960,\n        \"num_unique_values\": 3,\n        \"samples\": [\n          3960,\n          2735,\n          1986\n        ],\n        \"semantic_type\": \"\",\n        \"description\": \"\"\n      }\n    },\n    {\n      \"column\": \"Percentage\",\n      \"properties\": {\n        \"dtype\": \"number\",\n        \"std\": 10.443503546042479,\n        \"min\": 20.813246698805283,\n        \"max\": 41.50073359882624,\n        \"num_unique_values\": 3,\n        \"samples\": [\n          41.50073359882624,\n          28.66275413959338,\n          20.813246698805283\n        ],\n        \"semantic_type\": \"\",\n        \"description\": \"\"\n      }\n    }\n  ]\n}"
            }
          },
          "metadata": {},
          "execution_count": 66
        }
      ]
    },
    {
      "cell_type": "markdown",
      "source": [
        "**Task 2:** City Analysis\n",
        "Identify the city with the highest number\n",
        "of restaurants in the dataset.\n",
        "Calculate the average rating for\n",
        "restaurants in each city.\n",
        "Determine the city with the highest\n",
        "average rating."
      ],
      "metadata": {
        "id": "Tu0LKz04yCEM"
      }
    },
    {
      "cell_type": "markdown",
      "source": [
        "Count the number of restaurants per city"
      ],
      "metadata": {
        "id": "pJkdCyehyNLF"
      }
    },
    {
      "cell_type": "code",
      "source": [
        "city_counts = df[\"City\"].value_counts()"
      ],
      "metadata": {
        "id": "pum1x393yL7F"
      },
      "execution_count": 67,
      "outputs": []
    },
    {
      "cell_type": "markdown",
      "source": [
        "Identify the city with the highest number of restaurants"
      ],
      "metadata": {
        "id": "hT2kHRn7yUxD"
      }
    },
    {
      "cell_type": "code",
      "source": [
        "top_city = city_counts.idxmax()\n",
        "top_city_count = city_counts.max()"
      ],
      "metadata": {
        "id": "vsIiVjFgyVgn"
      },
      "execution_count": 68,
      "outputs": []
    },
    {
      "cell_type": "markdown",
      "source": [
        " Calculate the average rating for each city"
      ],
      "metadata": {
        "id": "Fy3PFa-xybDM"
      }
    },
    {
      "cell_type": "code",
      "source": [
        "city_avg_rating = df.groupby(\"City\")[\"Aggregate rating\"].mean()"
      ],
      "metadata": {
        "id": "LdTQ2V7syb9Z"
      },
      "execution_count": 69,
      "outputs": []
    },
    {
      "cell_type": "markdown",
      "source": [
        "Identify the city with the highest average rating"
      ],
      "metadata": {
        "id": "gFDf_XnZyiLW"
      }
    },
    {
      "source": [
        "# Make sure that you execute this code\n",
        "city_avg_rating = df.groupby(\"City\")[\"Aggregate rating\"].mean()\n",
        "\n",
        "# Then execute this code below to avoid the error\n",
        "top_rated_city = city_avg_rating.idxmax()\n",
        "top_rated_city_avg = city_avg_rating.max()"
      ],
      "cell_type": "code",
      "metadata": {
        "id": "SGWDBLdRy0Rc"
      },
      "execution_count": 72,
      "outputs": []
    },
    {
      "cell_type": "markdown",
      "source": [
        "Compile results"
      ],
      "metadata": {
        "id": "iHflZcOJy3Be"
      }
    },
    {
      "cell_type": "code",
      "source": [
        "city_analysis = {\n",
        "    \"City with Most Restaurants\": top_city,\n",
        "    \"Number of Restaurants\": top_city_count,\n",
        "    \"City with Highest Avg Rating\": top_rated_city,\n",
        "    \"Highest Average Rating\": top_rated_city_avg\n",
        "}\n",
        "\n",
        "city_analysis"
      ],
      "metadata": {
        "colab": {
          "base_uri": "https://localhost:8080/"
        },
        "id": "wvoA0_xIy4wt",
        "outputId": "1df50adb-2f90-4c13-b925-d1417c692a91"
      },
      "execution_count": 73,
      "outputs": [
        {
          "output_type": "execute_result",
          "data": {
            "text/plain": [
              "{'City with Most Restaurants': 'New Delhi',\n",
              " 'Number of Restaurants': 5473,\n",
              " 'City with Highest Avg Rating': 'Inner City',\n",
              " 'Highest Average Rating': 4.9}"
            ]
          },
          "metadata": {},
          "execution_count": 73
        }
      ]
    },
    {
      "cell_type": "markdown",
      "source": [
        "**Task 3:** Price Range Distribution\n",
        "Create a histogram or bar chart to\n",
        "visualize the distribution of price ranges\n",
        "among the restaurants.\n",
        "Calculate the percentage of restaurants\n",
        "in each price range category."
      ],
      "metadata": {
        "id": "jsC9lTn1zJFP"
      }
    },
    {
      "cell_type": "markdown",
      "source": [
        "importing necessary libraries"
      ],
      "metadata": {
        "id": "ByifXdvJzTiI"
      }
    },
    {
      "cell_type": "code",
      "source": [
        "import matplotlib.pyplot as plt"
      ],
      "metadata": {
        "id": "hVsp6WZ9zIeI"
      },
      "execution_count": 74,
      "outputs": []
    },
    {
      "cell_type": "markdown",
      "source": [
        " Count the number of restaurants in each price range"
      ],
      "metadata": {
        "id": "7HJfCRezzcVe"
      }
    },
    {
      "cell_type": "code",
      "source": [
        "price_range_counts = df[\"Price range\"].value_counts().sort_index()\n"
      ],
      "metadata": {
        "id": "mrQJYfwKzea1"
      },
      "execution_count": 75,
      "outputs": []
    },
    {
      "cell_type": "markdown",
      "source": [
        "Calculate the percentage of restaurants in each price range"
      ],
      "metadata": {
        "id": "xyzInJ7VzkHM"
      }
    },
    {
      "cell_type": "code",
      "source": [
        "price_range_percentages = (price_range_counts / len(df)) * 100"
      ],
      "metadata": {
        "id": "LK47FuIozmBj"
      },
      "execution_count": 76,
      "outputs": []
    },
    {
      "cell_type": "markdown",
      "source": [
        "Plot a bar chart"
      ],
      "metadata": {
        "id": "XUp9olB-zoZA"
      }
    },
    {
      "cell_type": "code",
      "source": [
        "plt.figure(figsize=(8, 5))\n",
        "plt.bar(price_range_counts.index, price_range_counts.values, color=\"skyblue\", edgecolor=\"black\")\n",
        "plt.xlabel(\"Price Range\")\n",
        "plt.ylabel(\"Number of Restaurants\")\n",
        "plt.title(\"Distribution of Price Ranges Among Restaurants\")\n",
        "plt.xticks(price_range_counts.index)  # Ensure correct price range labels\n",
        "plt.show()"
      ],
      "metadata": {
        "colab": {
          "base_uri": "https://localhost:8080/",
          "height": 437
        },
        "id": "9QDmwijuzsam",
        "outputId": "93ed87e6-adc6-47ca-a72e-37657b704929"
      },
      "execution_count": 79,
      "outputs": [
        {
          "output_type": "display_data",
          "data": {
            "text/plain": [
              "<Figure size 800x500 with 1 Axes>"
            ],
            "image/png": "[encoded data removed]"
          },
          "metadata": {}
        }
      ]
    },
    {
      "cell_type": "markdown",
      "source": [
        "Display percentage distribution"
      ],
      "metadata": {
        "id": "anSdddfJz9ca"
      }
    },
    {
      "cell_type": "code",
      "source": [
        "price_range_percentages"
      ],
      "metadata": {
        "colab": {
          "base_uri": "https://localhost:8080/",
          "height": 241
        },
        "id": "--3days-z-fs",
        "outputId": "21a984e8-9039-4732-9d18-dfed9353712e"
      },
      "execution_count": 80,
      "outputs": [
        {
          "output_type": "execute_result",
          "data": {
            "text/plain": [
              "Price range\n",
              "1    46.510166\n",
              "2    32.624188\n",
              "3    14.724376\n",
              "4     6.141270\n",
              "Name: count, dtype: float64"
            ],
            "text/html": [
              "<div>\n",
              "<style scoped>\n",
              "    .dataframe tbody tr th:only-of-type {\n",
              "        vertical-align: middle;\n",
              "    }\n",
              "\n",
              "    .dataframe tbody tr th {\n",
              "        vertical-align: top;\n",
              "    }\n",
              "\n",
              "    .dataframe thead th {\n",
              "        text-align: right;\n",
              "    }\n",
              "</style>\n",
              "<table border=\"1\" class=\"dataframe\">\n",
              "  <thead>\n",
              "    <tr style=\"text-align: right;\">\n",
              "      <th></th>\n",
              "      <th>count</th>\n",
              "    </tr>\n",
              "    <tr>\n",
              "      <th>Price range</th>\n",
              "      <th></th>\n",
              "    </tr>\n",
              "  </thead>\n",
              "  <tbody>\n",
              "    <tr>\n",
              "      <th>1</th>\n",
              "      <td>46.510166</td>\n",
              "    </tr>\n",
              "    <tr>\n",
              "      <th>2</th>\n",
              "      <td>32.624188</td>\n",
              "    </tr>\n",
              "    <tr>\n",
              "      <th>3</th>\n",
              "      <td>14.724376</td>\n",
              "    </tr>\n",
              "    <tr>\n",
              "      <th>4</th>\n",
              "      <td>6.141270</td>\n",
              "    </tr>\n",
              "  </tbody>\n",
              "</table>\n",
              "</div><br><label><b>dtype:</b> float64</label>"
            ]
          },
          "metadata": {},
          "execution_count": 80
        }
      ]
    },
    {
      "cell_type": "markdown",
      "source": [
        "**Task 4:** Online Delivery\n",
        "Determine the percentage of restaurants\n",
        "that offer online delivery.\n",
        "Compare the average ratings of restaurants\n",
        "with and without online delivery."
      ],
      "metadata": {
        "id": "744T6n7t0PGS"
      }
    },
    {
      "cell_type": "markdown",
      "source": [
        "Count the number of restaurants offering and not offering online delivery\n"
      ],
      "metadata": {
        "id": "6LHaA_w10TKi"
      }
    },
    {
      "cell_type": "code",
      "source": [
        "online_delivery_counts = df[\"Has Online delivery\"].value_counts()"
      ],
      "metadata": {
        "id": "31fuscO00W4r"
      },
      "execution_count": 81,
      "outputs": []
    },
    {
      "cell_type": "markdown",
      "source": [
        "Calculate the percentage of restaurants offering online delivery"
      ],
      "metadata": {
        "id": "MnHP_Mf30ePj"
      }
    },
    {
      "cell_type": "code",
      "source": [
        "online_delivery_percentage = (online_delivery_counts[\"Yes\"] / len(df)) * 100"
      ],
      "metadata": {
        "id": "JSnGcCjN0f2t"
      },
      "execution_count": 82,
      "outputs": []
    },
    {
      "cell_type": "markdown",
      "source": [
        "Calculate the average ratings for restaurants with and without online delivery\n"
      ],
      "metadata": {
        "id": "1Mb2wAF90itA"
      }
    },
    {
      "cell_type": "code",
      "source": [
        "avg_rating_online = df[df[\"Has Online delivery\"] == \"Yes\"][\"Aggregate rating\"].mean()\n",
        "avg_rating_no_online = df[df[\"Has Online delivery\"] == \"No\"][\"Aggregate rating\"].mean()"
      ],
      "metadata": {
        "id": "gk3rssEM0lSe"
      },
      "execution_count": 83,
      "outputs": []
    },
    {
      "cell_type": "markdown",
      "source": [
        "Compile results"
      ],
      "metadata": {
        "id": "e1krlLPV0qRo"
      }
    },
    {
      "cell_type": "code",
      "source": [
        "online_delivery_analysis = {\n",
        "    \"Percentage of Restaurants with Online Delivery\": online_delivery_percentage,\n",
        "    \"Average Rating (With Online Delivery)\": avg_rating_online,\n",
        "    \"Average Rating (Without Online Delivery)\": avg_rating_no_online\n",
        "}\n",
        "\n",
        "online_delivery_analysis"
      ],
      "metadata": {
        "colab": {
          "base_uri": "https://localhost:8080/"
        },
        "id": "3xMq3wg70rHo",
        "outputId": "949d9380-e8b1-4633-dc3d-03fada3f7e6a"
      },
      "execution_count": 84,
      "outputs": [
        {
          "output_type": "execute_result",
          "data": {
            "text/plain": [
              "{'Percentage of Restaurants with Online Delivery': np.float64(25.686438901697755),\n",
              " 'Average Rating (With Online Delivery)': np.float64(3.2488372093023257),\n",
              " 'Average Rating (Without Online Delivery)': np.float64(2.4635171343957127)}"
            ]
          },
          "metadata": {},
          "execution_count": 84
        }
      ]
    },
    {
      "cell_type": "markdown",
      "source": [
        "# **Level 2**\n",
        "\n",
        "**Task 1:** Restaurant Ratings\n",
        "Analyze the distribution of aggregate\n",
        "ratings and determine the most common\n",
        "rating range.\n",
        "Calculate the average number of votes\n",
        "received by restaurants."
      ],
      "metadata": {
        "id": "OLK_KD9E19km"
      }
    },
    {
      "cell_type": "markdown",
      "source": [
        "Analyze the distribution of aggregate ratings"
      ],
      "metadata": {
        "id": "Ds5ZZvOg2NUB"
      }
    },
    {
      "cell_type": "code",
      "source": [
        "rating_counts = df[\"Aggregate rating\"].value_counts().sort_index()"
      ],
      "metadata": {
        "id": "NFwdgl5u2PDS"
      },
      "execution_count": 85,
      "outputs": []
    },
    {
      "cell_type": "markdown",
      "source": [
        "Identify the most common rating range"
      ],
      "metadata": {
        "id": "8-MpeD8Y2RC9"
      }
    },
    {
      "cell_type": "code",
      "source": [
        "most_common_rating = rating_counts.idxmax()"
      ],
      "metadata": {
        "id": "4DrH2nQ72Swd"
      },
      "execution_count": 86,
      "outputs": []
    },
    {
      "cell_type": "markdown",
      "source": [
        "Calculate the average number of votes received by restaurants"
      ],
      "metadata": {
        "id": "F8fOrzjN2Wyo"
      }
    },
    {
      "cell_type": "code",
      "source": [
        "avg_votes = df[\"Votes\"].mean()"
      ],
      "metadata": {
        "id": "dd4vy3tO2Zuu"
      },
      "execution_count": 87,
      "outputs": []
    },
    {
      "cell_type": "markdown",
      "source": [
        "Plot a histogram for rating distribution"
      ],
      "metadata": {
        "id": "h44YSnO72dmU"
      }
    },
    {
      "cell_type": "code",
      "source": [
        "plt.figure(figsize=(8, 5))\n",
        "plt.bar(rating_counts.index, rating_counts.values, color=\"orange\", edgecolor=\"black\")\n",
        "plt.xlabel(\"Aggregate Rating\")\n",
        "plt.ylabel(\"Number of Restaurants\")\n",
        "plt.title(\"Distribution of Aggregate Ratings\")\n",
        "plt.xticks(rotation=45)  # Rotate labels for better visibility\n",
        "plt.show()"
      ],
      "metadata": {
        "colab": {
          "base_uri": "https://localhost:8080/",
          "height": 439
        },
        "id": "Ns8KRG6F2eXp",
        "outputId": "75257bde-0288-4ce6-9964-bebf577d16b5"
      },
      "execution_count": 88,
      "outputs": [
        {
          "output_type": "display_data",
          "data": {
            "text/plain": [
              "<Figure size 800x500 with 1 Axes>"
            ],
            "image/png": "[encoded data removed]"
          },
          "metadata": {}
        }
      ]
    },
    {
      "cell_type": "markdown",
      "source": [
        "Compile results"
      ],
      "metadata": {
        "id": "srGW9BAo2uaD"
      }
    },
    {
      "cell_type": "code",
      "source": [
        "rating_analysis = {\n",
        "    \"Most Common Rating\": most_common_rating,\n",
        "    \"Average Votes per Restaurant\": avg_votes\n",
        "}\n",
        "\n",
        "rating_analysis"
      ],
      "metadata": {
        "colab": {
          "base_uri": "https://localhost:8080/"
        },
        "id": "zvr1RLVS2vL3",
        "outputId": "c8371999-97ad-4d54-936d-49540d05f459"
      },
      "execution_count": 89,
      "outputs": [
        {
          "output_type": "execute_result",
          "data": {
            "text/plain": [
              "{'Most Common Rating': np.float64(0.0),\n",
              " 'Average Votes per Restaurant': np.float64(156.7720603647034)}"
            ]
          },
          "metadata": {},
          "execution_count": 89
        }
      ]
    },
    {
      "cell_type": "markdown",
      "source": [
        "**Task 2:** Cuisine Combination\n",
        "Identify the most common combinations of\n",
        "cuisines in the dataset.\n",
        "Determine if certain cuisine combinations\n",
        "tend to have higher ratings.\n"
      ],
      "metadata": {
        "id": "mRtVyGGU3DG9"
      }
    },
    {
      "cell_type": "markdown",
      "source": [
        "Count the most common cuisine combinations"
      ],
      "metadata": {
        "id": "iAJOTslp3QFs"
      }
    },
    {
      "cell_type": "code",
      "source": [
        "cuisine_combinations = df[\"Cuisines\"].value_counts()"
      ],
      "metadata": {
        "id": "ejB7v5Gq3SXM"
      },
      "execution_count": 90,
      "outputs": []
    },
    {
      "cell_type": "markdown",
      "source": [
        "Identify the top 5 most common cuisine combinations"
      ],
      "metadata": {
        "id": "svvEBo6z3VQk"
      }
    },
    {
      "cell_type": "code",
      "source": [
        "top_cuisine_combinations = cuisine_combinations.head(5)"
      ],
      "metadata": {
        "id": "Q7RL-sRv3Xpf"
      },
      "execution_count": 91,
      "outputs": []
    },
    {
      "cell_type": "markdown",
      "source": [
        " Calculate the average rating for each cuisine combination"
      ],
      "metadata": {
        "id": "UNvIMQGw3bnk"
      }
    },
    {
      "cell_type": "code",
      "source": [
        "cuisine_avg_ratings = df.groupby(\"Cuisines\")[\"Aggregate rating\"].mean()"
      ],
      "metadata": {
        "id": "Zi8rpmMf3gI-"
      },
      "execution_count": 92,
      "outputs": []
    },
    {
      "cell_type": "markdown",
      "source": [
        "Identify the top 5 highest-rated cuisine combinations"
      ],
      "metadata": {
        "id": "KGjfuWVF3hqq"
      }
    },
    {
      "cell_type": "code",
      "source": [
        "top_rated_cuisine_combinations = cuisine_avg_ratings.sort_values(ascending=False).head(5)"
      ],
      "metadata": {
        "id": "LveR6CB_3mYk"
      },
      "execution_count": 93,
      "outputs": []
    },
    {
      "cell_type": "markdown",
      "source": [
        "Compile results"
      ],
      "metadata": {
        "id": "DXfp6Qle3lwj"
      }
    },
    {
      "cell_type": "code",
      "source": [
        "cuisine_combination_analysis = {\n",
        "    \"Top 5 Most Common Cuisine Combinations\": top_cuisine_combinations,\n",
        "    \"Top 5 Highest Rated Cuisine Combinations\": top_rated_cuisine_combinations\n",
        "}"
      ],
      "metadata": {
        "id": "tmu84K-F3vL5"
      },
      "execution_count": 94,
      "outputs": []
    },
    {
      "cell_type": "code",
      "source": [
        "cuisine_combination_analysis"
      ],
      "metadata": {
        "colab": {
          "base_uri": "https://localhost:8080/"
        },
        "id": "GTtYrqNY3zjs",
        "outputId": "a439e703-e37c-4882-e231-5cfdb188330f"
      },
      "execution_count": 95,
      "outputs": [
        {
          "output_type": "execute_result",
          "data": {
            "text/plain": [
              "{'Top 5 Most Common Cuisine Combinations': Cuisines\n",
              " North Indian             936\n",
              " North Indian, Chinese    511\n",
              " Chinese                  354\n",
              " Fast Food                354\n",
              " North Indian, Mughlai    334\n",
              " Name: count, dtype: int64,\n",
              " 'Top 5 Highest Rated Cuisine Combinations': Cuisines\n",
              " Burger, Bar Food, Steak            4.9\n",
              " American, Burger, Grill            4.9\n",
              " American, Caribbean, Seafood       4.9\n",
              " American, Coffee and Tea           4.9\n",
              " Mexican, American, Healthy Food    4.9\n",
              " Name: Aggregate rating, dtype: float64}"
            ]
          },
          "metadata": {},
          "execution_count": 95
        }
      ]
    },
    {
      "cell_type": "markdown",
      "source": [
        "**Task 3:** Geographic Analysis\n",
        "Plot the locations of restaurants on a\n",
        "map using longitude and latitude\n",
        "coordinates.\n",
        "Identify any patterns or clusters of\n",
        "restaurants in specific areas."
      ],
      "metadata": {
        "id": "5bkIvpqJ4DhR"
      }
    },
    {
      "cell_type": "markdown",
      "source": [
        "Importing necesarry libraries"
      ],
      "metadata": {
        "id": "_nPLsLz14LpT"
      }
    },
    {
      "cell_type": "code",
      "source": [
        "import geopandas as gpd\n",
        "import matplotlib.pyplot as plt"
      ],
      "metadata": {
        "id": "LR8LF64W4UHT"
      },
      "execution_count": 96,
      "outputs": []
    },
    {
      "cell_type": "markdown",
      "source": [
        "Create a GeoDataFrame using longitude and latitude"
      ],
      "metadata": {
        "id": "kU7HG2zs4XGq"
      }
    },
    {
      "cell_type": "code",
      "source": [
        "gdf = gpd.GeoDataFrame(df, geometry=gpd.points_from_xy(df.Longitude, df.Latitude))"
      ],
      "metadata": {
        "id": "vtM_BW4o4YiH"
      },
      "execution_count": 97,
      "outputs": []
    },
    {
      "cell_type": "markdown",
      "source": [
        " Plot the locations of restaurants"
      ],
      "metadata": {
        "id": "hHkEbnru4by3"
      }
    },
    {
      "cell_type": "code",
      "source": [
        "fig, ax = plt.subplots(figsize=(10, 6))\n",
        "gdf.plot(ax=ax, markersize=2, alpha=0.5, color=\"red\")\n",
        "ax.set_xlabel(\"Longitude\")\n",
        "ax.set_ylabel(\"Latitude\")\n",
        "ax.set_title(\"Geographic Distribution of Restaurants\")\n",
        "plt.show()"
      ],
      "metadata": {
        "colab": {
          "base_uri": "https://localhost:8080/",
          "height": 247
        },
        "id": "R8JfhXMw4czS",
        "outputId": "82f2a422-552d-4052-91ac-4293c6e32d90"
      },
      "execution_count": 98,
      "outputs": [
        {
          "output_type": "display_data",
          "data": {
            "text/plain": [
              "<Figure size 1000x600 with 1 Axes>"
            ],
            "image/png": "[encoded data removed]"
          },
          "metadata": {}
        }
      ]
    },
    {
      "cell_type": "markdown",
      "source": [
        "**Task 4:** Restaurant Chains\n",
        "Identify if there are any restaurant chains\n",
        "present in the dataset.\n",
        "Analyze the ratings and popularity of\n",
        "different restaurant chains."
      ],
      "metadata": {
        "id": "FLp7Q5-E71M2"
      }
    },
    {
      "cell_type": "markdown",
      "source": [
        "Identify restaurant chains by counting occurrences of restaurant names"
      ],
      "metadata": {
        "id": "q3YR5ScG8Pxm"
      }
    },
    {
      "cell_type": "code",
      "source": [
        "restaurant_chain_counts = df[\"Restaurant Name\"].value_counts()"
      ],
      "metadata": {
        "id": "uUGahcvI8SDP"
      },
      "execution_count": 99,
      "outputs": []
    },
    {
      "cell_type": "markdown",
      "source": [
        "Filter to find actual chains (restaurants appearing more than once)\n"
      ],
      "metadata": {
        "id": "cYCd3sWG8U4B"
      }
    },
    {
      "cell_type": "code",
      "source": [
        "restaurant_chains = restaurant_chain_counts[restaurant_chain_counts > 1]"
      ],
      "metadata": {
        "id": "UAm0-Rmg8Wwt"
      },
      "execution_count": 100,
      "outputs": []
    },
    {
      "cell_type": "markdown",
      "source": [
        "Calculate average ratings for each restaurant chain\n"
      ],
      "metadata": {
        "id": "Yg-hFWTv8aQu"
      }
    },
    {
      "cell_type": "code",
      "source": [
        "chain_avg_ratings = df[df[\"Restaurant Name\"].isin(restaurant_chains.index)].groupby(\"Restaurant Name\")[\"Aggregate rating\"].mean()"
      ],
      "metadata": {
        "id": "XsdM6uhb8dRu"
      },
      "execution_count": 101,
      "outputs": []
    },
    {
      "cell_type": "markdown",
      "source": [
        "Calculate average votes for popularity analysis\n"
      ],
      "metadata": {
        "id": "Uht9wsaV8fBc"
      }
    },
    {
      "cell_type": "code",
      "source": [
        "chain_avg_votes = df[df[\"Restaurant Name\"].isin(restaurant_chains.index)].groupby(\"Restaurant Name\")[\"Votes\"].mean()"
      ],
      "metadata": {
        "id": "U4doiy_q8i-U"
      },
      "execution_count": 102,
      "outputs": []
    },
    {
      "cell_type": "markdown",
      "source": [
        "Combine results into a DataFrame"
      ],
      "metadata": {
        "id": "3Zj_bHCt8m8w"
      }
    },
    {
      "cell_type": "code",
      "source": [
        "restaurant_chain_analysis = pd.DataFrame({\n",
        "    \"Number of Locations\": restaurant_chains,\n",
        "    \"Average Rating\": chain_avg_ratings,\n",
        "    \"Average Votes\": chain_avg_votes\n",
        "}).sort_values(by=\"Number of Locations\", ascending=False)"
      ],
      "metadata": {
        "id": "-ZwY1uPq8rSV"
      },
      "execution_count": 103,
      "outputs": []
    },
    {
      "cell_type": "markdown",
      "source": [
        "Display the top 10 most widespread restaurant chains"
      ],
      "metadata": {
        "id": "upD8TPna8tcD"
      }
    },
    {
      "cell_type": "code",
      "source": [
        "restaurant_chain_analysis.head(10)"
      ],
      "metadata": {
        "colab": {
          "base_uri": "https://localhost:8080/",
          "height": 394
        },
        "id": "Z1xkQTHS8wOR",
        "outputId": "82ac47fc-ef97-48d4-ba8b-fe84b7e9491f"
      },
      "execution_count": 104,
      "outputs": [
        {
          "output_type": "execute_result",
          "data": {
            "text/plain": [
              "                  Number of Locations  Average Rating  Average Votes\n",
              "Restaurant Name                                                     \n",
              "Cafe Coffee Day                    83        2.419277      29.253012\n",
              "Domino's Pizza                     79        2.740506      84.088608\n",
              "Subway                             63        2.907937      97.206349\n",
              "Green Chick Chop                   51        2.672549      18.901961\n",
              "McDonald's                         48        3.339583     110.229167\n",
              "Keventers                          34        2.870588      37.147059\n",
              "Pizza Hut                          30        3.320000     165.366667\n",
              "Giani                              29        2.689655      29.448276\n",
              "Baskin Robbins                     28        1.860714      15.285714\n",
              "Barbeque Nation                    26        4.353846    1082.384615"
            ],
            "text/html": [
              "\n",
              "  <div id=\"df-02fbf8c3-fe7a-498d-a5e3-e25125dbf852\" class=\"colab-df-container\">\n",
              "    <div>\n",
              "<style scoped>\n",
              "    .dataframe tbody tr th:only-of-type {\n",
              "        vertical-align: middle;\n",
              "    }\n",
              "\n",
              "    .dataframe tbody tr th {\n",
              "        vertical-align: top;\n",
              "    }\n",
              "\n",
              "    .dataframe thead th {\n",
              "        text-align: right;\n",
              "    }\n",
              "</style>\n",
              "<table border=\"1\" class=\"dataframe\">\n",
              "  <thead>\n",
              "    <tr style=\"text-align: right;\">\n",
              "      <th></th>\n",
              "      <th>Number of Locations</th>\n",
              "      <th>Average Rating</th>\n",
              "      <th>Average Votes</th>\n",
              "    </tr>\n",
              "    <tr>\n",
              "      <th>Restaurant Name</th>\n",
              "      <th></th>\n",
              "      <th></th>\n",
              "      <th></th>\n",
              "    </tr>\n",
              "  </thead>\n",
              "  <tbody>\n",
              "    <tr>\n",
              "      <th>Cafe Coffee Day</th>\n",
              "      <td>83</td>\n",
              "      <td>2.419277</td>\n",
              "      <td>29.253012</td>\n",
              "    </tr>\n",
              "    <tr>\n",
              "      <th>Domino's Pizza</th>\n",
              "      <td>79</td>\n",
              "      <td>2.740506</td>\n",
              "      <td>84.088608</td>\n",
              "    </tr>\n",
              "    <tr>\n",
              "      <th>Subway</th>\n",
              "      <td>63</td>\n",
              "      <td>2.907937</td>\n",
              "      <td>97.206349</td>\n",
              "    </tr>\n",
              "    <tr>\n",
              "      <th>Green Chick Chop</th>\n",
              "      <td>51</td>\n",
              "      <td>2.672549</td>\n",
              "      <td>18.901961</td>\n",
              "    </tr>\n",
              "    <tr>\n",
              "      <th>McDonald's</th>\n",
              "      <td>48</td>\n",
              "      <td>3.339583</td>\n",
              "      <td>110.229167</td>\n",
              "    </tr>\n",
              "    <tr>\n",
              "      <th>Keventers</th>\n",
              "      <td>34</td>\n",
              "      <td>2.870588</td>\n",
              "      <td>37.147059</td>\n",
              "    </tr>\n",
              "    <tr>\n",
              "      <th>Pizza Hut</th>\n",
              "      <td>30</td>\n",
              "      <td>3.320000</td>\n",
              "      <td>165.366667</td>\n",
              "    </tr>\n",
              "    <tr>\n",
              "      <th>Giani</th>\n",
              "      <td>29</td>\n",
              "      <td>2.689655</td>\n",
              "      <td>29.448276</td>\n",
              "    </tr>\n",
              "    <tr>\n",
              "      <th>Baskin Robbins</th>\n",
              "      <td>28</td>\n",
              "      <td>1.860714</td>\n",
              "      <td>15.285714</td>\n",
              "    </tr>\n",
              "    <tr>\n",
              "      <th>Barbeque Nation</th>\n",
              "      <td>26</td>\n",
              "      <td>4.353846</td>\n",
              "      <td>1082.384615</td>\n",
              "    </tr>\n",
              "  </tbody>\n",
              "</table>\n",
              "</div>\n",
              "    <div class=\"colab-df-buttons\">\n",
              "\n",
              "  <div class=\"colab-df-container\">\n",
              "    <button class=\"colab-df-convert\" onclick=\"convertToInteractive('df-02fbf8c3-fe7a-498d-a5e3-e25125dbf852')\"\n",
              "            title=\"Convert this dataframe to an interactive table.\"\n",
              "            style=\"display:none;\">\n",
              "\n",
              "  <svg xmlns=\"http://www.w3.org/2000/svg\" height=\"24px\" viewBox=\"0 -960 960 960\">\n",
              "    <path d=\"M120-120v-720h720v720H120Zm60-500h600v-160H180v160Zm220 220h160v-160H400v160Zm0 220h160v-160H400v160ZM180-400h160v-160H180v160Zm440 0h160v-160H620v160ZM180-180h160v-160H180v160Zm440 0h160v-160H620v160Z\"/>\n",
              "  </svg>\n",
              "    </button>\n",
              "\n",
              "  <style>\n",
              "    .colab-df-container {\n",
              "      display:flex;\n",
              "      gap: 12px;\n",
              "    }\n",
              "\n",
              "    .colab-df-convert {\n",
              "      background-color: #E8F0FE;\n",
              "      border: none;\n",
              "      border-radius: 50%;\n",
              "      cursor: pointer;\n",
              "      display: none;\n",
              "      fill: #1967D2;\n",
              "      height: 32px;\n",
              "      padding: 0 0 0 0;\n",
              "      width: 32px;\n",
              "    }\n",
              "\n",
              "    .colab-df-convert:hover {\n",
              "      background-color: #E2EBFA;\n",
              "      box-shadow: 0px 1px 2px rgba(60, 64, 67, 0.3), 0px 1px 3px 1px rgba(60, 64, 67, 0.15);\n",
              "      fill: #174EA6;\n",
              "    }\n",
              "\n",
              "    .colab-df-buttons div {\n",
              "      margin-bottom: 4px;\n",
              "    }\n",
              "\n",
              "    [theme=dark] .colab-df-convert {\n",
              "      background-color: #3B4455;\n",
              "      fill: #D2E3FC;\n",
              "    }\n",
              "\n",
              "    [theme=dark] .colab-df-convert:hover {\n",
              "      background-color: #434B5C;\n",
              "      box-shadow: 0px 1px 3px 1px rgba(0, 0, 0, 0.15);\n",
              "      filter: drop-shadow(0px 1px 2px rgba(0, 0, 0, 0.3));\n",
              "      fill: #FFFFFF;\n",
              "    }\n",
              "  </style>\n",
              "\n",
              "    <script>\n",
              "      const buttonEl =\n",
              "        document.querySelector('#df-02fbf8c3-fe7a-498d-a5e3-e25125dbf852 button.colab-df-convert');\n",
              "      buttonEl.style.display =\n",
              "        google.colab.kernel.accessAllowed ? 'block' : 'none';\n",
              "\n",
              "      async function convertToInteractive(key) {\n",
              "        const element = document.querySelector('#df-02fbf8c3-fe7a-498d-a5e3-e25125dbf852');\n",
              "        const dataTable =\n",
              "          await google.colab.kernel.invokeFunction('convertToInteractive',\n",
              "                                                    [key], {});\n",
              "        if (!dataTable) return;\n",
              "\n",
              "        const docLinkHtml = 'Like what you see? Visit the ' +\n",
              "          '<a target=\"_blank\" href=https://colab.research.google.com/notebooks/data_table.ipynb>data table notebook</a>'\n",
              "          + ' to learn more about interactive tables.';\n",
              "        element.innerHTML = '';\n",
              "        dataTable['output_type'] = 'display_data';\n",
              "        await google.colab.output.renderOutput(dataTable, element);\n",
              "        const docLink = document.createElement('div');\n",
              "        docLink.innerHTML = docLinkHtml;\n",
              "        element.appendChild(docLink);\n",
              "      }\n",
              "    </script>\n",
              "  </div>\n",
              "\n",
              "\n",
              "<div id=\"df-1ba9042a-9079-41a7-b83c-38bca489a654\">\n",
              "  <button class=\"colab-df-quickchart\" onclick=\"quickchart('df-1ba9042a-9079-41a7-b83c-38bca489a654')\"\n",
              "            title=\"Suggest charts\"\n",
              "            style=\"display:none;\">\n",
              "\n",
              "<svg xmlns=\"http://www.w3.org/2000/svg\" height=\"24px\"viewBox=\"0 0 24 24\"\n",
              "     width=\"24px\">\n",
              "    <g>\n",
              "        <path d=\"M19 3H5c-1.1 0-2 .9-2 2v14c0 1.1.9 2 2 2h14c1.1 0 2-.9 2-2V5c0-1.1-.9-2-2-2zM9 17H7v-7h2v7zm4 0h-2V7h2v10zm4 0h-2v-4h2v4z\"/>\n",
              "    </g>\n",
              "</svg>\n",
              "  </button>\n",
              "\n",
              "<style>\n",
              "  .colab-df-quickchart {\n",
              "      --bg-color: #E8F0FE;\n",
              "      --fill-color: #1967D2;\n",
              "      --hover-bg-color: #E2EBFA;\n",
              "      --hover-fill-color: #174EA6;\n",
              "      --disabled-fill-color: #AAA;\n",
              "      --disabled-bg-color: #DDD;\n",
              "  }\n",
              "\n",
              "  [theme=dark] .colab-df-quickchart {\n",
              "      --bg-color: #3B4455;\n",
              "      --fill-color: #D2E3FC;\n",
              "      --hover-bg-color: #434B5C;\n",
              "      --hover-fill-color: #FFFFFF;\n",
              "      --disabled-bg-color: #3B4455;\n",
              "      --disabled-fill-color: #666;\n",
              "  }\n",
              "\n",
              "  .colab-df-quickchart {\n",
              "    background-color: var(--bg-color);\n",
              "    border: none;\n",
              "    border-radius: 50%;\n",
              "    cursor: pointer;\n",
              "    display: none;\n",
              "    fill: var(--fill-color);\n",
              "    height: 32px;\n",
              "    padding: 0;\n",
              "    width: 32px;\n",
              "  }\n",
              "\n",
              "  .colab-df-quickchart:hover {\n",
              "    background-color: var(--hover-bg-color);\n",
              "    box-shadow: 0 1px 2px rgba(60, 64, 67, 0.3), 0 1px 3px 1px rgba(60, 64, 67, 0.15);\n",
              "    fill: var(--button-hover-fill-color);\n",
              "  }\n",
              "\n",
              "  .colab-df-quickchart-complete:disabled,\n",
              "  .colab-df-quickchart-complete:disabled:hover {\n",
              "    background-color: var(--disabled-bg-color);\n",
              "    fill: var(--disabled-fill-color);\n",
              "    box-shadow: none;\n",
              "  }\n",
              "\n",
              "  .colab-df-spinner {\n",
              "    border: 2px solid var(--fill-color);\n",
              "    border-color: transparent;\n",
              "    border-bottom-color: var(--fill-color);\n",
              "    animation:\n",
              "      spin 1s steps(1) infinite;\n",
              "  }\n",
              "\n",
              "  @keyframes spin {\n",
              "    0% {\n",
              "      border-color: transparent;\n",
              "      border-bottom-color: var(--fill-color);\n",
              "      border-left-color: var(--fill-color);\n",
              "    }\n",
              "    20% {\n",
              "      border-color: transparent;\n",
              "      border-left-color: var(--fill-color);\n",
              "      border-top-color: var(--fill-color);\n",
              "    }\n",
              "    30% {\n",
              "      border-color: transparent;\n",
              "      border-left-color: var(--fill-color);\n",
              "      border-top-color: var(--fill-color);\n",
              "      border-right-color: var(--fill-color);\n",
              "    }\n",
              "    40% {\n",
              "      border-color: transparent;\n",
              "      border-right-color: var(--fill-color);\n",
              "      border-top-color: var(--fill-color);\n",
              "    }\n",
              "    60% {\n",
              "      border-color: transparent;\n",
              "      border-right-color: var(--fill-color);\n",
              "    }\n",
              "    80% {\n",
              "      border-color: transparent;\n",
              "      border-right-color: var(--fill-color);\n",
              "      border-bottom-color: var(--fill-color);\n",
              "    }\n",
              "    90% {\n",
              "      border-color: transparent;\n",
              "      border-bottom-color: var(--fill-color);\n",
              "    }\n",
              "  }\n",
              "</style>\n",
              "\n",
              "  <script>\n",
              "    async function quickchart(key) {\n",
              "      const quickchartButtonEl =\n",
              "        document.querySelector('#' + key + ' button');\n",
              "      quickchartButtonEl.disabled = true;  // To prevent multiple clicks.\n",
              "      quickchartButtonEl.classList.add('colab-df-spinner');\n",
              "      try {\n",
              "        const charts = await google.colab.kernel.invokeFunction(\n",
              "            'suggestCharts', [key], {});\n",
              "      } catch (error) {\n",
              "        console.error('Error during call to suggestCharts:', error);\n",
              "      }\n",
              "      quickchartButtonEl.classList.remove('colab-df-spinner');\n",
              "      quickchartButtonEl.classList.add('colab-df-quickchart-complete');\n",
              "    }\n",
              "    (() => {\n",
              "      let quickchartButtonEl =\n",
              "        document.querySelector('#df-1ba9042a-9079-41a7-b83c-38bca489a654 button');\n",
              "      quickchartButtonEl.style.display =\n",
              "        google.colab.kernel.accessAllowed ? 'block' : 'none';\n",
              "    })();\n",
              "  </script>\n",
              "</div>\n",
              "\n",
              "    </div>\n",
              "  </div>\n"
            ],
            "application/vnd.google.colaboratory.intrinsic+json": {
              "type": "dataframe",
              "variable_name": "restaurant_chain_analysis",
              "summary": "{\n  \"name\": \"restaurant_chain_analysis\",\n  \"rows\": 734,\n  \"fields\": [\n    {\n      \"column\": \"Restaurant Name\",\n      \"properties\": {\n        \"dtype\": \"string\",\n        \"num_unique_values\": 734,\n        \"samples\": [\n          \"Roti Aur Boti\",\n          \"34, Chowringhee Lane\",\n          \"Anand Sweets\"\n        ],\n        \"semantic_type\": \"\",\n        \"description\": \"\"\n      }\n    },\n    {\n      \"column\": \"Number of Locations\",\n      \"properties\": {\n        \"dtype\": \"number\",\n        \"std\": 6,\n        \"min\": 2,\n        \"max\": 83,\n        \"num_unique_values\": 29,\n        \"samples\": [\n          3,\n          14,\n          19\n        ],\n        \"semantic_type\": \"\",\n        \"description\": \"\"\n      }\n    },\n    {\n      \"column\": \"Average Rating\",\n      \"properties\": {\n        \"dtype\": \"number\",\n        \"std\": 1.1756760510534972,\n        \"min\": 0.0,\n        \"max\": 4.9,\n        \"num_unique_values\": 245,\n        \"samples\": [\n          3.40625,\n          3.32,\n          3.8000000000000003\n        ],\n        \"semantic_type\": \"\",\n        \"description\": \"\"\n      }\n    },\n    {\n      \"column\": \"Average Votes\",\n      \"properties\": {\n        \"dtype\": \"number\",\n        \"std\": 425.0816638908524,\n        \"min\": 0.0,\n        \"max\": 4841.0,\n        \"num_unique_values\": 497,\n        \"samples\": [\n          106.5,\n          52.333333333333336,\n          77.33333333333333\n        ],\n        \"semantic_type\": \"\",\n        \"description\": \"\"\n      }\n    }\n  ]\n}"
            }
          },
          "metadata": {},
          "execution_count": 104
        }
      ]
    },
    {
      "cell_type": "markdown",
      "source": [
        "# **Level 3**\n",
        "\n",
        "**Task 1:** Restaurant Reviews\n",
        "Analyze the text reviews to identify the most\n",
        "common positive and negative keywords.\n",
        "Calculate the average length of reviews and\n",
        "explore if there is a relationship between\n",
        "review length and rating."
      ],
      "metadata": {
        "id": "qhq06SJu86Ww"
      }
    },
    {
      "cell_type": "markdown",
      "source": [
        "Count occurrences of each rating text category"
      ],
      "metadata": {
        "id": "PhJXthZt_crB"
      }
    },
    {
      "source": [
        "rating_text_counts = df[\"Rating text\"].value_counts()"
      ],
      "cell_type": "code",
      "metadata": {
        "id": "bFL3zD8q_lDb"
      },
      "execution_count": 118,
      "outputs": []
    },
    {
      "cell_type": "markdown",
      "source": [
        "Categorize positive and negative reviews based on rating text"
      ],
      "metadata": {
        "id": "8SD8QPpZ_orx"
      }
    },
    {
      "cell_type": "code",
      "source": [
        "positive_ratings = [\"Excellent\", \"Very Good\", \"Good\"]\n",
        "negative_ratings = [\"Poor\", \"Average\", \"Bad\"]"
      ],
      "metadata": {
        "id": "kH8F78VT_qaC"
      },
      "execution_count": 119,
      "outputs": []
    },
    {
      "cell_type": "markdown",
      "source": [
        "Count positive and negative ratings"
      ],
      "metadata": {
        "id": "5Z6xdpuh_tkr"
      }
    },
    {
      "source": [
        "positive_count = df[df[\"Rating text\"].isin(positive_ratings)][\"Rating text\"].count()\n",
        "negative_count = df[df[\"Rating text\"].isin(negative_ratings)][\"Rating text\"].count()"
      ],
      "cell_type": "code",
      "metadata": {
        "id": "1kPHMXpE_z-q"
      },
      "execution_count": 120,
      "outputs": []
    },
    {
      "cell_type": "markdown",
      "source": [
        "Calculate the average number of votes per rating category"
      ],
      "metadata": {
        "id": "rkvnzYuX_2xE"
      }
    },
    {
      "source": [
        "avg_votes_per_rating = df.groupby(\"Rating text\")[\"Votes\"].mean().sort_values(ascending=False)"
      ],
      "cell_type": "code",
      "metadata": {
        "id": "v0y6N1q-__Fd"
      },
      "execution_count": 121,
      "outputs": []
    },
    {
      "cell_type": "markdown",
      "source": [
        "Compile results"
      ],
      "metadata": {
        "id": "Fyvae-OiAEnn"
      }
    },
    {
      "cell_type": "code",
      "source": [
        "rating_analysis = {\n",
        "    \"Most Common Ratings\": rating_text_counts,\n",
        "    \"Total Positive Reviews\": positive_count,\n",
        "    \"Total Negative Reviews\": negative_count,\n",
        "    \"Average Votes per Rating Category\": avg_votes_per_rating\n",
        "}\n",
        "\n",
        "rating_analysis"
      ],
      "metadata": {
        "colab": {
          "base_uri": "https://localhost:8080/"
        },
        "id": "0iazHHloAFST",
        "outputId": "3f6a02ee-e6a6-4119-ccee-5eeb983cd669"
      },
      "execution_count": 122,
      "outputs": [
        {
          "output_type": "execute_result",
          "data": {
            "text/plain": [
              "{'Most Common Ratings': Rating text\n",
              " Average      3734\n",
              " Not rated    2148\n",
              " Good         2096\n",
              " Very Good    1078\n",
              " Excellent     300\n",
              " Poor          186\n",
              " Name: count, dtype: int64,\n",
              " 'Total Positive Reviews': np.int64(3474),\n",
              " 'Total Negative Reviews': np.int64(3920),\n",
              " 'Average Votes per Rating Category': Rating text\n",
              " Excellent    852.253333\n",
              " Very Good    519.867347\n",
              " Good         229.416985\n",
              " Poor          90.715054\n",
              " Average       48.266202\n",
              " Not rated      0.870112\n",
              " Name: Votes, dtype: float64}"
            ]
          },
          "metadata": {},
          "execution_count": 122
        }
      ]
    },
    {
      "cell_type": "markdown",
      "source": [
        "**Task 2:** Votes Analysis\n",
        "Identify the restaurants with the highest and\n",
        "lowest number of votes.\n",
        "Analyze if there is a correlation between the\n",
        "number of votes and the rating of a\n",
        "restaurant."
      ],
      "metadata": {
        "id": "iTyV5aUqAXZt"
      }
    },
    {
      "cell_type": "markdown",
      "source": [
        "Importing Necessary Libraries"
      ],
      "metadata": {
        "id": "FDlWKWQFAaDR"
      }
    },
    {
      "cell_type": "code",
      "source": [
        "import seaborn as sns\n",
        "import scipy.stats as stats"
      ],
      "metadata": {
        "id": "1UkSeO1UAeK7"
      },
      "execution_count": 123,
      "outputs": []
    },
    {
      "cell_type": "markdown",
      "source": [
        "Identify restaurants with the highest and lowest number of votes"
      ],
      "metadata": {
        "id": "3jWgUOUeAjii"
      }
    },
    {
      "source": [
        "top_voted_restaurant = df.loc[df[\"Votes\"].idxmax(), [\"Restaurant Name\", \"Votes\", \"Aggregate rating\"]]\n",
        "least_voted_restaurant = df.loc[df[\"Votes\"].idxmin(), [\"Restaurant Name\", \"Votes\", \"Aggregate rating\"]]"
      ],
      "cell_type": "code",
      "metadata": {
        "id": "SARNcx1-Apmm"
      },
      "execution_count": 124,
      "outputs": []
    },
    {
      "cell_type": "markdown",
      "source": [
        "Calculate correlation between number of votes and aggregate rating"
      ],
      "metadata": {
        "id": "1st-kTMcAt-i"
      }
    },
    {
      "cell_type": "code",
      "source": [
        "correlation, p_value = stats.pearsonr(df[\"Votes\"], df[\"Aggregate rating\"])"
      ],
      "metadata": {
        "id": "Y-R1v1sEAvli"
      },
      "execution_count": 125,
      "outputs": []
    },
    {
      "cell_type": "markdown",
      "source": [
        " Plot the relationship between votes and rating"
      ],
      "metadata": {
        "id": "XqJriX-UBUrn"
      }
    },
    {
      "cell_type": "code",
      "source": [
        "plt.figure(figsize=(8, 5))\n",
        "sns.scatterplot(x=df[\"Votes\"], y=df[\"Aggregate rating\"], alpha=0.5)\n",
        "plt.xlabel(\"Number of Votes\")\n",
        "plt.ylabel(\"Aggregate Rating\")\n",
        "plt.title(\"Correlation Between Votes and Ratings\")\n",
        "plt.show()"
      ],
      "metadata": {
        "colab": {
          "base_uri": "https://localhost:8080/",
          "height": 453
        },
        "id": "aV5oOc91BVZM",
        "outputId": "0bf026c9-0546-4c5d-bf2c-addcd6cd3472"
      },
      "execution_count": 126,
      "outputs": [
        {
          "output_type": "display_data",
          "data": {
            "text/plain": [
              "<Figure size 800x500 with 1 Axes>"
            ],
            "image/png": "[encoded data removed]"
          },
          "metadata": {}
        }
      ]
    },
    {
      "cell_type": "markdown",
      "source": [
        " Compile results"
      ],
      "metadata": {
        "id": "h6Lb1IJsBoIv"
      }
    },
    {
      "cell_type": "code",
      "source": [
        "votes_analysis = {\n",
        "    \"Top Voted Restaurant\": top_voted_restaurant.to_dict(),\n",
        "    \"Least Voted Restaurant\": least_voted_restaurant.to_dict(),\n",
        "    \"Correlation (Votes vs Rating)\": correlation,\n",
        "    \"P-value\": p_value\n",
        "}\n",
        "\n",
        "votes_analysis"
      ],
      "metadata": {
        "colab": {
          "base_uri": "https://localhost:8080/"
        },
        "id": "wx6JywTQBpEt",
        "outputId": "db47ec10-3d30-4e58-c141-33ec6ed5c9c7"
      },
      "execution_count": 127,
      "outputs": [
        {
          "output_type": "execute_result",
          "data": {
            "text/plain": [
              "{'Top Voted Restaurant': {'Restaurant Name': 'Toit',\n",
              "  'Votes': 10934,\n",
              "  'Aggregate rating': 4.8},\n",
              " 'Least Voted Restaurant': {'Restaurant Name': 'Cantinho da Gula',\n",
              "  'Votes': 0,\n",
              "  'Aggregate rating': 0.0},\n",
              " 'Correlation (Votes vs Rating)': np.float64(0.3134741803250005),\n",
              " 'P-value': np.float64(1.3790418370860064e-216)}"
            ]
          },
          "metadata": {},
          "execution_count": 127
        }
      ]
    },
    {
      "cell_type": "markdown",
      "source": [
        "**Task 3:**  Price Range vs. Online Delivery and\n",
        "Table Booking\n",
        "Analyze if there is a relationship between the\n",
        "price range and the availability of online\n",
        "delivery and table booking.\n",
        "Determine if higher-priced restaurants are\n",
        "more likely to offer these services."
      ],
      "metadata": {
        "id": "P8TNLJsWByDY"
      }
    },
    {
      "cell_type": "markdown",
      "source": [
        "Analyze the relationship between price range and online delivery availability\n"
      ],
      "metadata": {
        "id": "psu-B5rICVzE"
      }
    },
    {
      "cell_type": "code",
      "source": [
        "online_delivery_by_price = df.groupby(\"Price range\")[\"Has Online delivery\"].value_counts(normalize=True).unstack() * 100\n"
      ],
      "metadata": {
        "id": "VJp-_GstCU-N"
      },
      "execution_count": 128,
      "outputs": []
    },
    {
      "cell_type": "markdown",
      "source": [
        "Analyze the relationship between price range and table booking availability\n"
      ],
      "metadata": {
        "id": "FQNNUGs-CWbG"
      }
    },
    {
      "cell_type": "code",
      "source": [
        "table_booking_by_price = df.groupby(\"Price range\")[\"Has Table booking\"].value_counts(normalize=True).unstack() * 100"
      ],
      "metadata": {
        "id": "S96Q8lGVCZqc"
      },
      "execution_count": 129,
      "outputs": []
    },
    {
      "cell_type": "markdown",
      "source": [
        "Plot Online Delivery vs Price Range"
      ],
      "metadata": {
        "id": "el_3_8R2Ck9R"
      }
    },
    {
      "cell_type": "code",
      "source": [
        "plt.figure(figsize=(8, 5))\n",
        "online_delivery_by_price.plot(kind=\"bar\", stacked=True, color=[\"red\", \"green\"], ax=plt.gca())\n",
        "plt.xlabel(\"Price Range\")\n",
        "plt.ylabel(\"Percentage (%)\")\n",
        "plt.title(\"Online Delivery Availability by Price Range\")\n",
        "plt.legend(title=\"Has Online Delivery\", labels=[\"No\", \"Yes\"])\n",
        "plt.xticks(rotation=0)\n",
        "plt.show()"
      ],
      "metadata": {
        "colab": {
          "base_uri": "https://localhost:8080/",
          "height": 442
        },
        "id": "YDgeSjzoCoVU",
        "outputId": "8ef457ba-e868-4eff-e14a-23f63a8b6b1e"
      },
      "execution_count": 130,
      "outputs": [
        {
          "output_type": "display_data",
          "data": {
            "text/plain": [
              "<Figure size 800x500 with 1 Axes>"
            ],
            "image/png": "[encoded data removed]"
          },
          "metadata": {}
        }
      ]
    },
    {
      "cell_type": "markdown",
      "source": [
        " Plot Table Booking vs Price Range"
      ],
      "metadata": {
        "id": "UxkkRO3XCrCZ"
      }
    },
    {
      "cell_type": "code",
      "source": [
        "plt.figure(figsize=(8, 5))\n",
        "table_booking_by_price.plot(kind=\"bar\", stacked=True, color=[\"red\", \"green\"], ax=plt.gca())\n",
        "plt.xlabel(\"Price Range\")\n",
        "plt.ylabel(\"Percentage (%)\")\n",
        "plt.title(\"Table Booking Availability by Price Range\")\n",
        "plt.legend(title=\"Has Table Booking\", labels=[\"No\", \"Yes\"])\n",
        "plt.xticks(rotation=0)\n",
        "plt.show()"
      ],
      "metadata": {
        "colab": {
          "base_uri": "https://localhost:8080/",
          "height": 442
        },
        "id": "qXcbDJeACt_1",
        "outputId": "33beb292-a895-4d7c-cb62-7608744e6f68"
      },
      "execution_count": 131,
      "outputs": [
        {
          "output_type": "display_data",
          "data": {
            "text/plain": [
              "<Figure size 800x500 with 1 Axes>"
            ],
            "image/png": "[encoded data removed]"
          },
          "metadata": {}
        }
      ]
    },
    {
      "cell_type": "markdown",
      "source": [
        "Compile insights"
      ],
      "metadata": {
        "id": "qK35HI5OCyS6"
      }
    },
    {
      "cell_type": "code",
      "source": [
        "price_range_analysis = {\n",
        "    \"Online Delivery by Price Range (%)\": online_delivery_by_price,\n",
        "    \"Table Booking by Price Range (%)\": table_booking_by_price\n",
        "}\n",
        "\n",
        "price_range_analysis"
      ],
      "metadata": {
        "colab": {
          "base_uri": "https://localhost:8080/"
        },
        "id": "ZGQsJUOxCzyw",
        "outputId": "1fc38572-23ab-4bc3-d28d-b4b7e226bd1b"
      },
      "execution_count": 132,
      "outputs": [
        {
          "output_type": "execute_result",
          "data": {
            "text/plain": [
              "{'Online Delivery by Price Range (%)': Has Online delivery         No        Yes\n",
              " Price range                              \n",
              " 1                    84.204597  15.795403\n",
              " 2                    58.689367  41.310633\n",
              " 3                    70.747331  29.252669\n",
              " 4                    90.955631   9.044369,\n",
              " 'Table Booking by Price Range (%)': Has Table booking         No        Yes\n",
              " Price range                            \n",
              " 1                  99.977467   0.022533\n",
              " 2                  92.322518   7.677482\n",
              " 3                  54.163701  45.836299\n",
              " 4                  53.242321  46.757679}"
            ]
          },
          "metadata": {},
          "execution_count": 132
        }
      ]
    }
  ]
}